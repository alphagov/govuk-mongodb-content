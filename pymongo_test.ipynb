{
 "cells": [
  {
   "cell_type": "code",
   "execution_count": 29,
   "metadata": {
    "ExecuteTime": {
     "end_time": "2019-05-01T12:38:46.889144Z",
     "start_time": "2019-05-01T12:38:46.877230Z"
    }
   },
   "outputs": [],
   "source": [
    "import pymongo\n",
    "import pandas as pd\n",
    "\n",
    "from bson import json_util, ObjectId\n",
    "from pandas.io.json import json_normalize\n",
    "import json"
   ]
  },
  {
   "cell_type": "markdown",
   "metadata": {},
   "source": [
    "Get database running locally as per the instructions in this README."
   ]
  },
  {
   "cell_type": "code",
   "execution_count": 2,
   "metadata": {
    "ExecuteTime": {
     "end_time": "2019-05-01T12:01:23.350077Z",
     "start_time": "2019-05-01T12:01:23.345278Z"
    }
   },
   "outputs": [],
   "source": [
    "# or whatever port it's at\n",
    "myclient = pymongo.MongoClient(\"mongodb://localhost:27017/\")"
   ]
  },
  {
   "cell_type": "code",
   "execution_count": 3,
   "metadata": {
    "ExecuteTime": {
     "end_time": "2019-05-01T12:01:24.049849Z",
     "start_time": "2019-05-01T12:01:24.041511Z"
    }
   },
   "outputs": [
    {
     "name": "stdout",
     "output_type": "stream",
     "text": [
      "['27017', 'admin', 'content_store', 'local']\n"
     ]
    }
   ],
   "source": [
    "print(myclient.list_database_names())"
   ]
  },
  {
   "cell_type": "code",
   "execution_count": 4,
   "metadata": {
    "ExecuteTime": {
     "end_time": "2019-05-01T12:01:24.810898Z",
     "start_time": "2019-05-01T12:01:24.806896Z"
    }
   },
   "outputs": [],
   "source": [
    "mydb = myclient[\"content_store\"]\n",
    "mycol = mydb[\"content_items\"]"
   ]
  },
  {
   "cell_type": "markdown",
   "metadata": {},
   "source": [
    "The first parameter of the `find()` method is the filter that all returned records must match (we can leave it empty to get all records). With projections, we can select specific fields from the returned documents. The projections are passed in the second argument of the `find()` method where 1 means True, we want that returned."
   ]
  },
  {
   "cell_type": "code",
   "execution_count": 21,
   "metadata": {
    "ExecuteTime": {
     "end_time": "2019-05-01T12:30:03.719843Z",
     "start_time": "2019-05-01T12:30:03.712616Z"
    }
   },
   "outputs": [
    {
     "data": {
      "text/plain": [
       "{'_id': '/30-hours-free-childcare',\n",
       " 'details': {'body': [{'content': \"You may be able to get up to 30 hours free childcare (1,140 hours per year, which you can choose how you take) if your child is 3 to 4 years old.\\r\\n\\r\\nThe childcare:\\r\\n\\r\\n- must be with an [approved childcare provider](/help-with-childcare-costs/what-counts-approved-childcare)\\r\\n- stops when your child starts in reception class (or reaches compulsory school age, if later)\\r\\n\\r\\n^There are different schemes in [Scotland](http://www.earlylearningandchildcare.scot/600-hours-free-early-learning-and-childcare/), [Wales](http://gov.wales/topics/people-and-communities/people/children-and-young-people/childcare/?lang=en) and [Northern Ireland](http://www.nidirect.gov.uk/childcare).\\r\\n\\r\\nIf you're eligible for the extra hours, you sign up online to get a code to give to your childcare provider to reserve your place. You'll get the extra hours once the next term starts.\\r\\n\\r\\n^If you’ve already registered, you can [sign in to your childcare account](/sign-in-childcare-account).\\r\\n\\r\\n###Eligibility\\r\\n\\r\\nYou can usually get 30 hours free childcare if you (and your partner, if you have one) are:\\r\\n\\r\\n- in work - or getting parental leave, sick leave or annual leave\\r\\n- each earning at least the [National Minimum Wage or Living Wage](/national-minimum-wage-rates) for 16 hours a week - this is £125.28 if you're over 25\\r\\n\\r\\nThis earnings limit does not apply if you’re self-employed and started your business less than 12 months ago.\\r\\n\\r\\nYou're not eligible if:\\r\\n\\r\\n- your child does not usually live with you\\r\\n- either you or your partner has a [taxable income](/income-tax) over £100,000\\r\\n- you're from [outside the EEA](/eu-eea) and your UK residence card says you cannot access public funds\\r\\n\\r\\nIf you foster your child, you cannot apply online for 30 hours free childcare. Speak to your social worker and your [local authority](/find-local-council) if you want to apply. \\r\\n\\r\\n^You can get 30 hours free childcare at the same time as claiming Universal Credit, tax credits, childcare vouchers or Tax-Free Childcare. \\r\\n\\r\\n###If you cannot work\\r\\n\\r\\nYou may still be eligible if your partner is working, and you get Incapacity Benefit, Severe Disablement Allowance, Carer’s Allowance or Employment and Support Allowance.\\r\\n\\r\\n##Apply\\r\\n\\r\\n[Apply online for 30 hours free childcare](/apply-30-hours-free-childcare)\"},\n",
       "   {'content': '<p>You may be able to get up to 30 hours free childcare (1,140 hours per year, which you can choose how you take) if your child is 3 to 4 years old.</p>\\n\\n<p>The childcare:</p>\\n\\n<ul>\\n  <li>must be with an <a href=\"/help-with-childcare-costs/what-counts-approved-childcare\">approved childcare provider</a>\\n</li>\\n  <li>stops when your child starts in reception class (or reaches compulsory school age, if later)</li>\\n</ul>\\n\\n<div role=\"note\" aria-label=\"Information\" class=\"application-notice info-notice\">\\n<p>There are different schemes in <a rel=\"external\" href=\"http://www.earlylearningandchildcare.scot/600-hours-free-early-learning-and-childcare/\">Scotland</a>, <a rel=\"external\" href=\"http://gov.wales/topics/people-and-communities/people/children-and-young-people/childcare/?lang=en\">Wales</a> and <a rel=\"external\" href=\"http://www.nidirect.gov.uk/childcare\">Northern Ireland</a>.</p>\\n</div>\\n\\n<p>If you’re eligible for the extra hours, you sign up online to get a code to give to your childcare provider to reserve your place. You’ll get the extra hours once the next term starts.</p>\\n\\n<div role=\"note\" aria-label=\"Information\" class=\"application-notice info-notice\">\\n<p>If you’ve already registered, you can <a href=\"/sign-in-childcare-account\">sign in to your childcare account</a>.</p>\\n</div>\\n\\n<h3 id=\"eligibility\">Eligibility</h3>\\n\\n<p>You can usually get 30 hours free childcare if you (and your partner, if you have one) are:</p>\\n\\n<ul>\\n  <li>in work - or getting parental leave, sick leave or annual leave</li>\\n  <li>each earning at least the <a href=\"/national-minimum-wage-rates\">National Minimum Wage or Living Wage</a> for 16 hours a week - this is £125.28 if you’re over 25</li>\\n</ul>\\n\\n<p>This earnings limit does not apply if you’re self-employed and started your business less than 12 months ago.</p>\\n\\n<p>You’re not eligible if:</p>\\n\\n<ul>\\n  <li>your child does not usually live with you</li>\\n  <li>either you or your partner has a <a href=\"/income-tax\">taxable income</a> over £100,000</li>\\n  <li>you’re from <a href=\"/eu-eea\">outside the EEA</a> and your UK residence card says you cannot access public funds</li>\\n</ul>\\n\\n<p>If you foster your child, you cannot apply online for 30 hours free childcare. Speak to your social worker and your <a href=\"/find-local-council\">local authority</a> if you want to apply.</p>\\n\\n<div role=\"note\" aria-label=\"Information\" class=\"application-notice info-notice\">\\n<p>You can get 30 hours free childcare at the same time as claiming Universal Credit, tax credits, childcare vouchers or Tax-Free Childcare.</p>\\n</div>\\n\\n<h3 id=\"if-you-cannot-work\">If you cannot work</h3>\\n\\n<p>You may still be eligible if your partner is working, and you get Incapacity Benefit, Severe Disablement Allowance, Carer’s Allowance or Employment and Support Allowance.</p>\\n\\n<h2 id=\"apply\">Apply</h2>\\n\\n<p><a href=\"/apply-30-hours-free-childcare\">Apply online for 30 hours free childcare</a></p>\\n'}]}}"
      ]
     },
     "execution_count": 21,
     "metadata": {},
     "output_type": "execute_result"
    }
   ],
   "source": [
    "mycol.find_one({\"_id\": \"/30-hours-free-childcare\"}, projection={'details.body.content':1})"
   ]
  },
  {
   "cell_type": "code",
   "execution_count": 30,
   "metadata": {
    "ExecuteTime": {
     "end_time": "2019-05-01T12:41:32.789141Z",
     "start_time": "2019-05-01T12:41:32.784990Z"
    }
   },
   "outputs": [],
   "source": [
    "def mongo_to_dataframe(mongo_data):\n",
    "    \"\"\"Get nested JSON lines into a pandas dataframe.\n",
    "    \n",
    "    Sanitize by loading as a regular JSON. Un-nest the data with normalise\n",
    "    then turn into a pandas dataframe.\n",
    "    \"\"\"\n",
    "\n",
    "        sanitized = json.loads(json_util.dumps(mongo_data))\n",
    "        normalized = json_normalize(sanitized)\n",
    "        df = pd.DataFrame(normalized)\n",
    "\n",
    "        return df"
   ]
  },
  {
   "cell_type": "code",
   "execution_count": 37,
   "metadata": {
    "ExecuteTime": {
     "end_time": "2019-05-01T12:43:51.161958Z",
     "start_time": "2019-05-01T12:43:51.149687Z"
    }
   },
   "outputs": [
    {
     "data": {
      "text/html": [
       "<div>\n",
       "<style scoped>\n",
       "    .dataframe tbody tr th:only-of-type {\n",
       "        vertical-align: middle;\n",
       "    }\n",
       "\n",
       "    .dataframe tbody tr th {\n",
       "        vertical-align: top;\n",
       "    }\n",
       "\n",
       "    .dataframe thead th {\n",
       "        text-align: right;\n",
       "    }\n",
       "</style>\n",
       "<table border=\"1\" class=\"dataframe\">\n",
       "  <thead>\n",
       "    <tr style=\"text-align: right;\">\n",
       "      <th></th>\n",
       "      <th>_id</th>\n",
       "      <th>details.body</th>\n",
       "    </tr>\n",
       "  </thead>\n",
       "  <tbody>\n",
       "    <tr>\n",
       "      <th>0</th>\n",
       "      <td>/30-hours-free-childcare</td>\n",
       "      <td>[{'content': 'You may be able to get up to 30 ...</td>\n",
       "    </tr>\n",
       "  </tbody>\n",
       "</table>\n",
       "</div>"
      ],
      "text/plain": [
       "                        _id                                       details.body\n",
       "0  /30-hours-free-childcare  [{'content': 'You may be able to get up to 30 ..."
      ]
     },
     "execution_count": 37,
     "metadata": {},
     "output_type": "execute_result"
    }
   ],
   "source": [
    "mongo_to_dataframe(mycol.find_one({\"_id\": \"/30-hours-free-childcare\"}, projection={'details.body.content':1}))"
   ]
  }
 ],
 "metadata": {
  "kernelspec": {
   "display_name": "Python 3",
   "language": "python",
   "name": "python3"
  },
  "language_info": {
   "codemirror_mode": {
    "name": "ipython",
    "version": 3
   },
   "file_extension": ".py",
   "mimetype": "text/x-python",
   "name": "python",
   "nbconvert_exporter": "python",
   "pygments_lexer": "ipython3",
   "version": "3.7.0"
  },
  "toc": {
   "base_numbering": 1,
   "nav_menu": {},
   "number_sections": true,
   "sideBar": true,
   "skip_h1_title": false,
   "title_cell": "Table of Contents",
   "title_sidebar": "Contents",
   "toc_cell": false,
   "toc_position": {},
   "toc_section_display": true,
   "toc_window_display": false
  }
 },
 "nbformat": 4,
 "nbformat_minor": 2
}
